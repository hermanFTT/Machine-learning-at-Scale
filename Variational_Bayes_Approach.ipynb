{
  "metadata": {
    "colab": {
      "provenance": []
    },
    "kernelspec": {
      "name": "python3",
      "display_name": "Python 3",
      "language": "python"
    },
    "language_info": {
      "name": "python",
      "version": "3.10.14",
      "mimetype": "text/x-python",
      "codemirror_mode": {
        "name": "ipython",
        "version": 3
      },
      "pygments_lexer": "ipython3",
      "nbconvert_exporter": "python",
      "file_extension": ".py"
    },
    "kaggle": {
      "accelerator": "nvidiaTeslaT4",
      "dataSources": [
        {
          "sourceId": 9422471,
          "sourceType": "datasetVersion",
          "datasetId": 5723229
        }
      ],
      "dockerImageVersionId": 30762,
      "isInternetEnabled": true,
      "language": "python",
      "sourceType": "notebook",
      "isGpuEnabled": true
    }
  },
  "nbformat_minor": 0,
  "nbformat": 4,
  "cells": [
    {
      "cell_type": "markdown",
      "source": [
        "# Herman Franclin Tesso Tassang"
      ],
      "metadata": {
        "id": "myDzpc5EIM9c"
      }
    },
    {
      "cell_type": "markdown",
      "source": [
        "# Applied Machine Learning at scale : Variational Bayes Approach"
      ],
      "metadata": {
        "id": "vVw7r0WsIUPI"
      }
    },
    {
      "cell_type": "code",
      "source": [
        "#@title dependencies\n",
        "import pandas as pd\n",
        "import numpy as np\n",
        "import math\n",
        "import sklearn\n",
        "import matplotlib.pyplot as plt\n",
        "import seaborn as sns\n",
        "from tqdm import tqdm\n",
        "import pickle\n",
        "import random"
      ],
      "metadata": {
        "id": "Yaxva7b-vOeM"
      },
      "execution_count": null,
      "outputs": []
    },
    {
      "cell_type": "code",
      "source": [
        "#@title Upload data from my drive\n",
        "import gdown\n",
        "# ratings file\n",
        "url = 'https://drive.google.com/uc?id=1y0AA7ZCNOWLY1-FNvaQdzmqZAckxHZSq'\n",
        "output = 'ratings.csv'\n",
        "gdown.download(url, output, quiet=False)\n",
        "\n",
        "# movies\n",
        "url = 'https://drive.google.com/uc?id=1o6aXdDJrKSIfEf9TxMU5RhoJRuQVwbUf'\n",
        "output = 'movies.csv'\n",
        "gdown.download(url, output, quiet=False)\n",
        "\n",
        "# structured data list of tuples (m,n,r_mn)\n",
        "url = 'https://drive.google.com/uc?id=1jLLk9o-sKAJC0JfhKheI1l9PJOudfN9j'\n",
        "output = 'total_list_samples.pkl'\n",
        "gdown.download(url, output, quiet=False)"
      ],
      "metadata": {
        "id": "HA102RpGSsF3"
      },
      "execution_count": null,
      "outputs": []
    },
    {
      "cell_type": "code",
      "source": [
        "#@title import data\n",
        "#file_path='/content/drive/MyDrive/Shortcut to courses materials/Applied Machine learning at Scale/ml-latest-small/ratings.csv' # small dataset\n",
        "file_path='/content/ratings.csv'\n",
        "data=pd.read_csv(file_path,sep=',',header=0)\n",
        "data.head(10)"
      ],
      "metadata": {
        "id": "2Yh4OpLFybhu",
        "colab": {
          "base_uri": "https://localhost:8080/",
          "height": 363
        },
        "outputId": "65da24ce-9be2-4d13-c5d3-729f5bd1150c"
      },
      "execution_count": null,
      "outputs": [
        {
          "output_type": "execute_result",
          "data": {
            "text/plain": [
              "   userId  movieId  rating   timestamp\n",
              "0       1      296     5.0  1147880044\n",
              "1       1      306     3.5  1147868817\n",
              "2       1      307     5.0  1147868828\n",
              "3       1      665     5.0  1147878820\n",
              "4       1      899     3.5  1147868510\n",
              "5       1     1088     4.0  1147868495\n",
              "6       1     1175     3.5  1147868826\n",
              "7       1     1217     3.5  1147878326\n",
              "8       1     1237     5.0  1147868839\n",
              "9       1     1250     4.0  1147868414"
            ],
            "text/html": [
              "\n",
              "  <div id=\"df-1440f65f-dd42-47bc-a90b-eacc81111bcc\" class=\"colab-df-container\">\n",
              "    <div>\n",
              "<style scoped>\n",
              "    .dataframe tbody tr th:only-of-type {\n",
              "        vertical-align: middle;\n",
              "    }\n",
              "\n",
              "    .dataframe tbody tr th {\n",
              "        vertical-align: top;\n",
              "    }\n",
              "\n",
              "    .dataframe thead th {\n",
              "        text-align: right;\n",
              "    }\n",
              "</style>\n",
              "<table border=\"1\" class=\"dataframe\">\n",
              "  <thead>\n",
              "    <tr style=\"text-align: right;\">\n",
              "      <th></th>\n",
              "      <th>userId</th>\n",
              "      <th>movieId</th>\n",
              "      <th>rating</th>\n",
              "      <th>timestamp</th>\n",
              "    </tr>\n",
              "  </thead>\n",
              "  <tbody>\n",
              "    <tr>\n",
              "      <th>0</th>\n",
              "      <td>1</td>\n",
              "      <td>296</td>\n",
              "      <td>5.0</td>\n",
              "      <td>1147880044</td>\n",
              "    </tr>\n",
              "    <tr>\n",
              "      <th>1</th>\n",
              "      <td>1</td>\n",
              "      <td>306</td>\n",
              "      <td>3.5</td>\n",
              "      <td>1147868817</td>\n",
              "    </tr>\n",
              "    <tr>\n",
              "      <th>2</th>\n",
              "      <td>1</td>\n",
              "      <td>307</td>\n",
              "      <td>5.0</td>\n",
              "      <td>1147868828</td>\n",
              "    </tr>\n",
              "    <tr>\n",
              "      <th>3</th>\n",
              "      <td>1</td>\n",
              "      <td>665</td>\n",
              "      <td>5.0</td>\n",
              "      <td>1147878820</td>\n",
              "    </tr>\n",
              "    <tr>\n",
              "      <th>4</th>\n",
              "      <td>1</td>\n",
              "      <td>899</td>\n",
              "      <td>3.5</td>\n",
              "      <td>1147868510</td>\n",
              "    </tr>\n",
              "    <tr>\n",
              "      <th>5</th>\n",
              "      <td>1</td>\n",
              "      <td>1088</td>\n",
              "      <td>4.0</td>\n",
              "      <td>1147868495</td>\n",
              "    </tr>\n",
              "    <tr>\n",
              "      <th>6</th>\n",
              "      <td>1</td>\n",
              "      <td>1175</td>\n",
              "      <td>3.5</td>\n",
              "      <td>1147868826</td>\n",
              "    </tr>\n",
              "    <tr>\n",
              "      <th>7</th>\n",
              "      <td>1</td>\n",
              "      <td>1217</td>\n",
              "      <td>3.5</td>\n",
              "      <td>1147878326</td>\n",
              "    </tr>\n",
              "    <tr>\n",
              "      <th>8</th>\n",
              "      <td>1</td>\n",
              "      <td>1237</td>\n",
              "      <td>5.0</td>\n",
              "      <td>1147868839</td>\n",
              "    </tr>\n",
              "    <tr>\n",
              "      <th>9</th>\n",
              "      <td>1</td>\n",
              "      <td>1250</td>\n",
              "      <td>4.0</td>\n",
              "      <td>1147868414</td>\n",
              "    </tr>\n",
              "  </tbody>\n",
              "</table>\n",
              "</div>\n",
              "    <div class=\"colab-df-buttons\">\n",
              "\n",
              "  <div class=\"colab-df-container\">\n",
              "    <button class=\"colab-df-convert\" onclick=\"convertToInteractive('df-1440f65f-dd42-47bc-a90b-eacc81111bcc')\"\n",
              "            title=\"Convert this dataframe to an interactive table.\"\n",
              "            style=\"display:none;\">\n",
              "\n",
              "  <svg xmlns=\"http://www.w3.org/2000/svg\" height=\"24px\" viewBox=\"0 -960 960 960\">\n",
              "    <path d=\"M120-120v-720h720v720H120Zm60-500h600v-160H180v160Zm220 220h160v-160H400v160Zm0 220h160v-160H400v160ZM180-400h160v-160H180v160Zm440 0h160v-160H620v160ZM180-180h160v-160H180v160Zm440 0h160v-160H620v160Z\"/>\n",
              "  </svg>\n",
              "    </button>\n",
              "\n",
              "  <style>\n",
              "    .colab-df-container {\n",
              "      display:flex;\n",
              "      gap: 12px;\n",
              "    }\n",
              "\n",
              "    .colab-df-convert {\n",
              "      background-color: #E8F0FE;\n",
              "      border: none;\n",
              "      border-radius: 50%;\n",
              "      cursor: pointer;\n",
              "      display: none;\n",
              "      fill: #1967D2;\n",
              "      height: 32px;\n",
              "      padding: 0 0 0 0;\n",
              "      width: 32px;\n",
              "    }\n",
              "\n",
              "    .colab-df-convert:hover {\n",
              "      background-color: #E2EBFA;\n",
              "      box-shadow: 0px 1px 2px rgba(60, 64, 67, 0.3), 0px 1px 3px 1px rgba(60, 64, 67, 0.15);\n",
              "      fill: #174EA6;\n",
              "    }\n",
              "\n",
              "    .colab-df-buttons div {\n",
              "      margin-bottom: 4px;\n",
              "    }\n",
              "\n",
              "    [theme=dark] .colab-df-convert {\n",
              "      background-color: #3B4455;\n",
              "      fill: #D2E3FC;\n",
              "    }\n",
              "\n",
              "    [theme=dark] .colab-df-convert:hover {\n",
              "      background-color: #434B5C;\n",
              "      box-shadow: 0px 1px 3px 1px rgba(0, 0, 0, 0.15);\n",
              "      filter: drop-shadow(0px 1px 2px rgba(0, 0, 0, 0.3));\n",
              "      fill: #FFFFFF;\n",
              "    }\n",
              "  </style>\n",
              "\n",
              "    <script>\n",
              "      const buttonEl =\n",
              "        document.querySelector('#df-1440f65f-dd42-47bc-a90b-eacc81111bcc button.colab-df-convert');\n",
              "      buttonEl.style.display =\n",
              "        google.colab.kernel.accessAllowed ? 'block' : 'none';\n",
              "\n",
              "      async function convertToInteractive(key) {\n",
              "        const element = document.querySelector('#df-1440f65f-dd42-47bc-a90b-eacc81111bcc');\n",
              "        const dataTable =\n",
              "          await google.colab.kernel.invokeFunction('convertToInteractive',\n",
              "                                                    [key], {});\n",
              "        if (!dataTable) return;\n",
              "\n",
              "        const docLinkHtml = 'Like what you see? Visit the ' +\n",
              "          '<a target=\"_blank\" href=https://colab.research.google.com/notebooks/data_table.ipynb>data table notebook</a>'\n",
              "          + ' to learn more about interactive tables.';\n",
              "        element.innerHTML = '';\n",
              "        dataTable['output_type'] = 'display_data';\n",
              "        await google.colab.output.renderOutput(dataTable, element);\n",
              "        const docLink = document.createElement('div');\n",
              "        docLink.innerHTML = docLinkHtml;\n",
              "        element.appendChild(docLink);\n",
              "      }\n",
              "    </script>\n",
              "  </div>\n",
              "\n",
              "\n",
              "<div id=\"df-bbef2bd4-830c-4e03-a999-c7f4b8d303b6\">\n",
              "  <button class=\"colab-df-quickchart\" onclick=\"quickchart('df-bbef2bd4-830c-4e03-a999-c7f4b8d303b6')\"\n",
              "            title=\"Suggest charts\"\n",
              "            style=\"display:none;\">\n",
              "\n",
              "<svg xmlns=\"http://www.w3.org/2000/svg\" height=\"24px\"viewBox=\"0 0 24 24\"\n",
              "     width=\"24px\">\n",
              "    <g>\n",
              "        <path d=\"M19 3H5c-1.1 0-2 .9-2 2v14c0 1.1.9 2 2 2h14c1.1 0 2-.9 2-2V5c0-1.1-.9-2-2-2zM9 17H7v-7h2v7zm4 0h-2V7h2v10zm4 0h-2v-4h2v4z\"/>\n",
              "    </g>\n",
              "</svg>\n",
              "  </button>\n",
              "\n",
              "<style>\n",
              "  .colab-df-quickchart {\n",
              "      --bg-color: #E8F0FE;\n",
              "      --fill-color: #1967D2;\n",
              "      --hover-bg-color: #E2EBFA;\n",
              "      --hover-fill-color: #174EA6;\n",
              "      --disabled-fill-color: #AAA;\n",
              "      --disabled-bg-color: #DDD;\n",
              "  }\n",
              "\n",
              "  [theme=dark] .colab-df-quickchart {\n",
              "      --bg-color: #3B4455;\n",
              "      --fill-color: #D2E3FC;\n",
              "      --hover-bg-color: #434B5C;\n",
              "      --hover-fill-color: #FFFFFF;\n",
              "      --disabled-bg-color: #3B4455;\n",
              "      --disabled-fill-color: #666;\n",
              "  }\n",
              "\n",
              "  .colab-df-quickchart {\n",
              "    background-color: var(--bg-color);\n",
              "    border: none;\n",
              "    border-radius: 50%;\n",
              "    cursor: pointer;\n",
              "    display: none;\n",
              "    fill: var(--fill-color);\n",
              "    height: 32px;\n",
              "    padding: 0;\n",
              "    width: 32px;\n",
              "  }\n",
              "\n",
              "  .colab-df-quickchart:hover {\n",
              "    background-color: var(--hover-bg-color);\n",
              "    box-shadow: 0 1px 2px rgba(60, 64, 67, 0.3), 0 1px 3px 1px rgba(60, 64, 67, 0.15);\n",
              "    fill: var(--button-hover-fill-color);\n",
              "  }\n",
              "\n",
              "  .colab-df-quickchart-complete:disabled,\n",
              "  .colab-df-quickchart-complete:disabled:hover {\n",
              "    background-color: var(--disabled-bg-color);\n",
              "    fill: var(--disabled-fill-color);\n",
              "    box-shadow: none;\n",
              "  }\n",
              "\n",
              "  .colab-df-spinner {\n",
              "    border: 2px solid var(--fill-color);\n",
              "    border-color: transparent;\n",
              "    border-bottom-color: var(--fill-color);\n",
              "    animation:\n",
              "      spin 1s steps(1) infinite;\n",
              "  }\n",
              "\n",
              "  @keyframes spin {\n",
              "    0% {\n",
              "      border-color: transparent;\n",
              "      border-bottom-color: var(--fill-color);\n",
              "      border-left-color: var(--fill-color);\n",
              "    }\n",
              "    20% {\n",
              "      border-color: transparent;\n",
              "      border-left-color: var(--fill-color);\n",
              "      border-top-color: var(--fill-color);\n",
              "    }\n",
              "    30% {\n",
              "      border-color: transparent;\n",
              "      border-left-color: var(--fill-color);\n",
              "      border-top-color: var(--fill-color);\n",
              "      border-right-color: var(--fill-color);\n",
              "    }\n",
              "    40% {\n",
              "      border-color: transparent;\n",
              "      border-right-color: var(--fill-color);\n",
              "      border-top-color: var(--fill-color);\n",
              "    }\n",
              "    60% {\n",
              "      border-color: transparent;\n",
              "      border-right-color: var(--fill-color);\n",
              "    }\n",
              "    80% {\n",
              "      border-color: transparent;\n",
              "      border-right-color: var(--fill-color);\n",
              "      border-bottom-color: var(--fill-color);\n",
              "    }\n",
              "    90% {\n",
              "      border-color: transparent;\n",
              "      border-bottom-color: var(--fill-color);\n",
              "    }\n",
              "  }\n",
              "</style>\n",
              "\n",
              "  <script>\n",
              "    async function quickchart(key) {\n",
              "      const quickchartButtonEl =\n",
              "        document.querySelector('#' + key + ' button');\n",
              "      quickchartButtonEl.disabled = true;  // To prevent multiple clicks.\n",
              "      quickchartButtonEl.classList.add('colab-df-spinner');\n",
              "      try {\n",
              "        const charts = await google.colab.kernel.invokeFunction(\n",
              "            'suggestCharts', [key], {});\n",
              "      } catch (error) {\n",
              "        console.error('Error during call to suggestCharts:', error);\n",
              "      }\n",
              "      quickchartButtonEl.classList.remove('colab-df-spinner');\n",
              "      quickchartButtonEl.classList.add('colab-df-quickchart-complete');\n",
              "    }\n",
              "    (() => {\n",
              "      let quickchartButtonEl =\n",
              "        document.querySelector('#df-bbef2bd4-830c-4e03-a999-c7f4b8d303b6 button');\n",
              "      quickchartButtonEl.style.display =\n",
              "        google.colab.kernel.accessAllowed ? 'block' : 'none';\n",
              "    })();\n",
              "  </script>\n",
              "</div>\n",
              "\n",
              "    </div>\n",
              "  </div>\n"
            ],
            "application/vnd.google.colaboratory.intrinsic+json": {
              "type": "dataframe",
              "variable_name": "data"
            }
          },
          "metadata": {},
          "execution_count": 3
        }
      ]
    },
    {
      "cell_type": "code",
      "source": [
        "#@title users and movies Id\n",
        "users=data['userId'].unique()   # users ID\n",
        "items=data['movieId'].unique()  # Movies ID\n",
        "M=len(users)                    # number of users\n",
        "N=len(items)                    # number of items (movies)\n"
      ],
      "metadata": {
        "id": "EeQC69yz1xak",
        "cellView": "form"
      },
      "execution_count": null,
      "outputs": []
    },
    {
      "cell_type": "code",
      "source": [
        "data.shape"
      ],
      "metadata": {
        "id": "TRIao3d_5XKy",
        "colab": {
          "base_uri": "https://localhost:8080/"
        },
        "outputId": "cbe40bd8-d039-47e1-e8d0-9e78c3a6220f"
      },
      "execution_count": null,
      "outputs": [
        {
          "output_type": "execute_result",
          "data": {
            "text/plain": [
              "(25000095, 4)"
            ]
          },
          "metadata": {},
          "execution_count": 4
        }
      ]
    },
    {
      "cell_type": "code",
      "source": [
        "data.dtypes"
      ],
      "metadata": {
        "id": "rDXr0dwR57QY",
        "colab": {
          "base_uri": "https://localhost:8080/"
        },
        "outputId": "20690f5c-db82-4a54-f278-c73ceca2801e"
      },
      "execution_count": null,
      "outputs": [
        {
          "output_type": "execute_result",
          "data": {
            "text/plain": [
              "userId         int64\n",
              "movieId        int64\n",
              "rating       float64\n",
              "timestamp      int64\n",
              "dtype: object"
            ]
          },
          "metadata": {},
          "execution_count": 5
        }
      ]
    },
    {
      "cell_type": "code",
      "source": [
        "#@title users and movies Id\n",
        "users=data['userId'].unique()   # users ID\n",
        "items=data['movieId'].unique()  # Movies ID\n",
        "M=len(users)                    # number of users\n",
        "N=len(items)                    # number of items (movies)\n"
      ],
      "metadata": {
        "id": "Dvicn0IU5nPh"
      },
      "execution_count": null,
      "outputs": []
    },
    {
      "cell_type": "code",
      "source": [
        "#@title  structured data\n",
        "import pickle\n",
        "path='/content/total_list_samples.pkl'\n",
        "with open(path, 'rb') as f:\n",
        "    samples = pickle.load(f)         # list of tuple ( m, n , r_mn )"
      ],
      "metadata": {
        "id": "YP_kCpys57_C"
      },
      "execution_count": null,
      "outputs": []
    },
    {
      "cell_type": "code",
      "source": [
        "# Structured data\n",
        "Omega_m  = [[] for i in range(M)] # list of list of tuple (item_index ,rating) for each user \"m\"\n",
        "Omega_n  = [[] for i in range(N)] # list of list of tuple (user_index ,rating) for each item \"n\"\n",
        "\n",
        "for (m, n, rating) in samples:\n",
        "  Omega_m[m].append((n, rating))\n",
        "  Omega_n[n].append((m, rating))"
      ],
      "metadata": {
        "id": "sQiDcwy-6Rsq"
      },
      "execution_count": null,
      "outputs": []
    },
    {
      "cell_type": "code",
      "source": [
        "print('lenght of samples list (user_index,movie_index,rate) :',len(samples))\n",
        "print('')\n",
        "print('lenght of Omega_m list (item_index ,rating):', len(Omega_m))\n",
        "print('')\n",
        "print('lenght of Omega_n list (user_index ,rating):', len(Omega_n))"
      ],
      "metadata": {
        "id": "b3qsqStg6rcT",
        "colab": {
          "base_uri": "https://localhost:8080/"
        },
        "outputId": "c58e1ec7-47d7-4093-e4a6-3e0577457709"
      },
      "execution_count": null,
      "outputs": [
        {
          "output_type": "stream",
          "name": "stdout",
          "text": [
            "lenght of samples list (user_index,movie_index,rate) : 25000095\n",
            "\n",
            "lenght of the users_struct list: 162541\n",
            "\n",
            "lenght of the items_struct list: 59047\n"
          ]
        }
      ]
    },
    {
      "cell_type": "markdown",
      "source": [
        "# Variational Inference"
      ],
      "metadata": {
        "id": "jfBKJp6_p3DN"
      }
    },
    {
      "cell_type": "markdown",
      "source": [
        "## implementing the Objective: Lower Bound of the Evidence\n",
        "\\begin{align*}\n",
        "& E L B O:=-\\frac{\\tau}{2}\\sum_m\\left[\\operatorname{trace}\\left(\\Gamma_{u_m}\\right)+\\mu_{u_m}^{\\top} \\mu_{u_m}\\right]\n",
        "-\\frac{\\tau}{2} \\sum_n\\left(\\operatorname{trace}\\left(\\Gamma_{v_n}\\right)+\\mu_{v_n}^{\\top} \\mu_{v_n}\\right) \\\\\n",
        "& +\\lambda\\sum_m \\sum_{n \\in \\Omega(m)}\\left[ r_{m n}  \\mu_{u_m}^{\\top}  \\mu_{v_n}-\\frac{1}{2} \\operatorname{trace}\\bigg(\\left(\\Gamma_{u_m}+\\mu_{u_m}  \\mu_{u_m}^{\\top}\\right)\\left(\\Gamma_{v_n}+\\mu_{v_n }\\mu_{v_n }^{\\top}\\right.\\big)\\bigg)\\right] \\\\\n",
        "& +\\frac{1}{2} \\sum_m \\log \\left(\\left|\\Gamma_{u_m}\\right|\\right)+\\frac{1}{2} \\sum_n \\log \\left(\\left|\\Gamma_{v_n}\\right|\\right)+ Const\\quad \\text{  }  \n",
        "\\end{align*}"
      ],
      "metadata": {
        "id": "IKMqT1g0IJ4s"
      }
    },
    {
      "cell_type": "code",
      "source": [
        "m_indices = np.array([m for m, n, r in samples])\n",
        "n_indices = np.array([n for m, n, r in samples])\n",
        "ratings = np.array([r for m, n, r in samples])\n",
        "\n",
        "def sum_traces(u,v,Gam_u,Gam_v):\n",
        "    # outer product\n",
        "    uu=np.einsum('bi,bj->bij', u, u)\n",
        "    vv=np.einsum('bi,bj->bij', v, v)\n",
        "    #batch summation\n",
        "    #S_u=Gam_u+uu\n",
        "    #S_v=Gam_v+vv\n",
        "    # Compute the trace of the product of S_u and S_v\n",
        "    #sum_traces = np.einsum('bij,bji->b', Gam_u+uu, Gam_v+vv)\n",
        "    return np.sum((Gam_u+uu)*((Gam_v+vv).transpose(0,2,1)))\n",
        "\n",
        "#@ ELBO\n",
        "def compute_elbo(mu_u, mu_v, Gamma_u, Gamma_v,tau, lambda_):\n",
        "    \"\"\"\n",
        "    Compute the ELBO in a vectorized manner using numpy.\n",
        "\n",
        "    Arguments:\n",
        "    - mu_u: Matrix of shape (M, K), mean vectors for users.\n",
        "    - mu_v: Matrix of shape (N, K), mean vectors for items.\n",
        "    - Gamma_u: Matrix of shape (M, K, K), covariance matrices for users.\n",
        "    - Gamma_v: Matrix of shape (N, K, K), covariance matrices for items.\n",
        "    - tau: Scalar, a weight parameter.\n",
        "    - lambda_: Scalar, regularization parameter for interaction.\n",
        "\n",
        "\n",
        "    Returns:\n",
        "    - elbo: Scalar, the computed ELBO.\n",
        "    \"\"\"\n",
        "\n",
        "    # First term: -τ/2 * sum_m [ trace(Γ_um) + μ_um^T μ_um ]\n",
        "    term1_u = np.einsum('mkk->m', Gamma_u) + np.einsum('mk,mk->m', mu_u, mu_u)\n",
        "    term1 = -0.5 * tau * np.sum(term1_u)\n",
        "\n",
        "    # Second term: -τ/2 * sum_n [ trace(Γ_vn) + μ_vn^T μ_vn ]\n",
        "    term2_v = np.einsum('nkk->n', Gamma_v) + np.einsum('nk,nk->n', mu_v, mu_v)\n",
        "    term2 = -0.5 * tau * np.sum(term2_v)\n",
        "\n",
        "    # Third term: λ sum_m sum_n∈Ω(m) [ r_mn μ_um^T μ_vn - 0.5 trace(...) ]\n",
        "\n",
        "        ## Compute dot products between corresponding μ_um and μ_vn\n",
        "    dot_products = np.sum(mu_u[m_indices] * mu_v[n_indices], axis=1)\n",
        "        ## Trace term for the third part (compute for all (m, n) pairs\n",
        "    trace_uv =  sum_traces(mu_u[m_indices],mu_v[n_indices],Gamma_u[m_indices],Gamma_v[n_indices])\n",
        "\n",
        "    # Vectorized third term computation\n",
        "    term3 = lambda_ * (np.sum(ratings * dot_products) - 0.5 * trace_uv)\n",
        "\n",
        "    # Fourth term: 1/2 * sum_m log |Γ_um|\n",
        "    term4_u = np.sum(np.linalg.slogdet(Gamma_u)[1])  # log-determinants of Γ_um\n",
        "    term4 = 0.5 * term4_u\n",
        "\n",
        "    # Fifth term: 1/2 * sum_n log |Γ_vn|\n",
        "    term5_v = np.sum(np.linalg.slogdet(Gamma_v)[1])  # log-determinants of Γ_vn\n",
        "    term5 = 0.5 * term5_v\n",
        "\n",
        "    # Final ELBO computation\n",
        "    elbo = term1 + term2 + term3 + term4 + term5\n",
        "    return elbo"
      ],
      "metadata": {
        "id": "wCnxvyYH6Vrs",
        "execution": {
          "iopub.status.busy": "2024-09-20T21:23:14.324899Z",
          "iopub.execute_input": "2024-09-20T21:23:14.325366Z",
          "iopub.status.idle": "2024-09-20T21:23:14.338293Z",
          "shell.execute_reply.started": "2024-09-20T21:23:14.325323Z",
          "shell.execute_reply": "2024-09-20T21:23:14.337111Z"
        },
        "trusted": true
      },
      "execution_count": null,
      "outputs": []
    },
    {
      "cell_type": "markdown",
      "source": [
        "## Homework\n",
        "we want to approximate the learned $\\ q(u_m)=\\mathcal{N}\\Big(u_m;\\mu_{u_m},\\Gamma_{u_m}\\Big)\\approx\\prod_{k}^{K} \\mathcal{N}\\Big(\\mu_{u_m},c_{u_{m_k}}I\\Big)\\ ∀\\ m\\ $, so that we don't have to save the dense covariance matrix $\\Gamma_m\\ \\forall\\ m.$\n",
        "\n",
        "\n",
        "\n",
        "$Given\\ p\\sim \\mathcal{N}\\big(\\mu_p,\\Gamma_p\\big)\\ and\\ q\\sim \\mathcal{N}\\big(\\mu_q,\\Gamma_q\\big)\\ $ both $K$ dimensional,  we can show that the $KL-Divergenge,\\ KL(p\\parallel q)$ is given by: $$ \\frac{1}{2}\\Big[\\log\\big(\\frac{\\mid\\Gamma_q\\mid}{\\mid\\Gamma_p\\mid }\\big)-K+trace\\big\\{\\Gamma_p\\Gamma_q^{-1}\\}+(\\mu_p-\\mu_q)^T\\Gamma_q^{-1}(\\mu_p-\\mu_q)\\Big].$$\n",
        "$$.$$\n",
        "\n",
        "\n",
        "## 1. Compute $KL\\Big( \\prod_{k}^{K}\\mathcal{N}\\big(\\mu_{u_m},c_{u_{m_k}}I\\big)\\parallel q(u_m)\\Big)$\n",
        "\n",
        "In our case, $\\ \\mu_p=\\mu_q=\\mu_m\\quad  ,\\ \\Gamma_q=\\Gamma_m\\quad $ and $\\quad \\Gamma_p=Diag\\big((c_{u_{m_k}})_{_k}\\big)\\ $ is a diagonal matrix. Thus, using the above formula,\n",
        "\\begin{align*}\n",
        "KL\\Big( \\prod_{k}^{K}\\mathcal{N}\\big(\\mu_{u_m},c_{u_{m_k}}I\\big)\\parallel q(u_m)\\Big)&=\\frac{1}{2}\\Big[\\log(\\mid \\Gamma_m\\mid)-\\log(\\prod_{k}^{K}c_{u_{m_k}})-K+\\sum_{k}c_{u_{m_k}}[\\Gamma_m^{-1}]_k+0\\Big]\\\\\n",
        "&=\\frac{1}{2}\\Big[\\log(\\mid \\Gamma_m\\mid)-\\sum_{k}\\log(c_{u_{m_k}})-K+\\sum_{k}c_{u_{m_k}}[\\Gamma_m^{-1}]_k+0\\Big]\\\\\n",
        "&=\\frac{1}{2}\\Big[\\log(\\mid \\Gamma_m\\mid)-\\log(\\prod_{k}^{K}c_{u_{m_k}})-K+\\sum_{k}c_{u_{m_k}}[\\Gamma_m^{-1}]_k+0\\Big]\\\\\n",
        "&=\\frac{1}{2}\\Big[-\\sum_{k}\\log(c_{u_{m_k}})+\\sum_{k}c_{u_{m_k}}[\\Gamma_m^{-1}]_k+const\\Big]\\quad (\\text{ we account only on terms relate to $c_{u_{m_k}} )$}\n",
        "\\end{align*}\n",
        "$[\\Gamma_m^{-1}]_k\\ $ is the $k^{th}$ element of the main diagonal vector of $\\ \\Gamma_m^{-1}.$\n",
        "$$.$$\n",
        "\n",
        "## 2. Find the Optimum $(c_{u_{m_k}})_k$ that minimize $KL$: Gradient\n",
        "for fixed $k$,\n",
        "$$\\frac{∂KL}{\\partial c_{u_{m_k}}}=\\frac{1}{2}\\Big(-\\frac{1}{c_{u_{m_k}}}+[\\Gamma_m^{-1}]_k\\Big)$$\n",
        "\n",
        "$$.$$\n",
        "$$\\frac{∂KL}{\\partial c_{u_{m_k}}}=0⟹ c_{u_{m_k}}=\\frac{1}{[\\Gamma_m^{-1}]_k}$$\n",
        "\n",
        "\n"
      ],
      "metadata": {
        "id": "sLxSTCeSwV6D"
      }
    },
    {
      "cell_type": "code",
      "source": [],
      "metadata": {
        "id": "oI7vY0qEU6at"
      },
      "execution_count": null,
      "outputs": []
    },
    {
      "cell_type": "markdown",
      "source": [
        "## Learning Algorithm: Mean Field Variational Approximation\n",
        "$$  q(u_m)=\\mathcal{N}\\Big(u_m;\\mu_{u_m},\\Gamma_{u_m}\\Big)≈\\prod_{k}^{K}\\mathcal{N}\\Big(\\mu_{u_m},c_{u_{m_k}}I\\Big)\\quad where $$\n",
        " $$  \\Gamma_{u_m}=\\Big(\\tau \\mathbb{I}+\\lambda\\sum_{n\\in \\Omega(m)} \\big( \\Gamma_{v_n}+\\mu_{v_n}\\mu_{v_n}^T\\big)  \\Big)^{-1};\\quad \\mu_{u_m}= \\Gamma_{u_m}\\big(\\sum_{n\\in \\Omega(m)}\\lambda r_{mn}\\mu_{v_n}\\big) ;\\quad c_{u_{m_k}}=\\frac{1}{[\\Gamma_{u_m}^{-1}]_k} $$\n",
        "\n",
        "\n",
        "\n",
        "$$.$$\n",
        "$$ q(v_n)=\\mathcal{N}\\Big(v_n;\\mu_{v_n},\\Gamma_{v_n}\\Big)≈\\prod_{k}^{K}\\mathcal{N}\\Big(\\mu_{v_m},c_{v_{n_k}}I\\Big)\\quad where $$\n",
        "\n",
        " $$  \\Gamma_{v_n}=\\Big(\\tau \\mathbb{I}+\\lambda\\sum_{m\\in \\Omega(n)} \\big( \\Gamma_{u_m}+\\mu_{u_m}\\mu_{u_m}^T\\big)  \\Big)^{-1};\\quad \\mu_{v_n}= \\Gamma_{v_n}\\big(\\sum_{m\\in \\Omega(n)}\\lambda r_{mn}\\mu_{u_m}\\big) ;\\quad c_{v_{n_k}}=\\frac{1}{[\\Gamma_{v_n}^{-1}]_k} $$\n",
        "\n",
        "\n",
        "\n"
      ],
      "metadata": {
        "id": "IQRKoWqIKUfu"
      }
    },
    {
      "cell_type": "code",
      "source": [
        "#@title Setup & Initialization\n",
        "# Hyperparameters\n",
        "tau = 2.0       # Regularization term\n",
        "lambda_ = 4.0   # Regularization on interactions\n",
        "epsilon = 1e-3  # Convergence threshold\n",
        "\n",
        "\n",
        "K = 2 # Dimensionality of the latent space\n",
        "\n",
        "# Initialize C_m=Diag( (c_u_mk)_k ) and C_n=Diag( (c_v_nk)_k ) parameters\n",
        "Var_u=np.zeros((M,K))         # will contain the variances from the  VI approximation of q(u_m) for each m\n",
        "Var_v=np.zeros((N,K))         # will contain the variances from the  VI approximation of q(u_n) for each n\n",
        "\n",
        "#np.random.seed(0)  # Seed for reproducibility\n",
        "mu_u = (1. / np.sqrt(K))*np.random.normal(size=(M, K))\n",
        "mu_v = (1. / np.sqrt(K))*np.random.normal(size=(N, K))\n",
        "\n",
        "# initialize Gamma_u and Gamma_v ( positive definite matrices), tiled for each user/item\n",
        "Gamma_u = np.tile((1. / np.sqrt(K))*np.eye(K), (M, 1, 1))  # Covariance matrix for users\n",
        "Gamma_v = np.tile((1. / np.sqrt(K))*np.eye(K), (N, 1, 1))  # Covariance matrix for items\n",
        "\n",
        "#\n"
      ],
      "metadata": {
        "id": "V3AIRqvCn594",
        "execution": {
          "iopub.status.busy": "2024-09-20T21:29:26.262449Z",
          "iopub.execute_input": "2024-09-20T21:29:26.262944Z",
          "iopub.status.idle": "2024-09-20T21:29:26.307963Z",
          "shell.execute_reply.started": "2024-09-20T21:29:26.262903Z",
          "shell.execute_reply": "2024-09-20T21:29:26.30709Z"
        },
        "trusted": true
      },
      "execution_count": null,
      "outputs": []
    },
    {
      "cell_type": "code",
      "source": [
        "#@title updating functions\n",
        "\n",
        "def update_u_params(mu_v, Gamma_v,Omega_m,tau, lambda_):\n",
        "      # Extract indices and ratings from Omega_m\n",
        "    idx_n = np.array([n for n, r in Omega_m])\n",
        "    r_n = np.array([r for n, r in Omega_m])\n",
        "\n",
        "    # Vectorized sum of lambda_ * r * mu_v[n]\n",
        "    sum_vn = np.einsum('i,ik->k', lambda_ * r_n, mu_v[idx_n])\n",
        "\n",
        "    # Vectorized sum of lambda_ * (Gamma_v[n] + outer(mu_v[n], mu_v[n]))\n",
        "    outer_mu_v = np.einsum('ik,ij->ikj', mu_v[idx_n], mu_v[idx_n])  # Outer products of mu_v_selected\n",
        "    sum_Gamma_v =  lambda_*np.sum(Gamma_v[idx_n] + outer_mu_v, axis=0)\n",
        "    inv_Cov_u=tau * np.eye(K) + sum_Gamma_v\n",
        "\n",
        "    # Update\n",
        "    cov_u = np.linalg.inv(inv_Cov_u)   # covariance U\n",
        "    mu_u = cov_u @ sum_vn              # mean u\n",
        "    Var_u =1/ np.diag(inv_Cov_u)       # variances approximate from the learned covariance\n",
        "    return mu_u, cov_u, Var_u\n",
        "\n",
        "\n",
        "def update_v_params(mu_u, Gamma_u,Omega_n,tau, lambda_):\n",
        "          # Extract indices and ratings from Omega_m\n",
        "    idx_m = np.array([m for m, r in Omega_n])\n",
        "    r_m = np.array([r for m, r in Omega_n])\n",
        "\n",
        "    # Vectorized sum of lambda_ * r * mu_v[n]\n",
        "    sum_um = np.einsum('i,ik->k', lambda_ * r_m, mu_u[idx_m])\n",
        "\n",
        "    # Vectorized sum of lambda_ * (Gamma_u[m] + outer(mu_u[m], mu_u[m]))\n",
        "    outer_mu_u = np.einsum('ik,ij->ikj', mu_u[idx_m], mu_u[idx_m])  # Outer products of mu_v_selected\n",
        "    sum_Gamma_u =  lambda_*np.sum(Gamma_u[idx_m] + outer_mu_u, axis=0)\n",
        "    inv_Cov_v=tau * np.eye(K) + sum_Gamma_u\n",
        "\n",
        "    #update\n",
        "    cov_v = np.linalg.inv(inv_Cov_v)       # Covariance V\n",
        "    mu_v = cov_v @ sum_um                   # mean V\n",
        "    Var_v= 1/np.diag(inv_Cov_v)            # variances approximate from the learned Covariance\n",
        "    return mu_v, cov_v,Var_v"
      ],
      "metadata": {
        "id": "p93gGMeeKUCI",
        "execution": {
          "iopub.status.busy": "2024-09-20T21:24:21.006315Z",
          "iopub.execute_input": "2024-09-20T21:24:21.006728Z",
          "iopub.status.idle": "2024-09-20T21:24:21.025104Z",
          "shell.execute_reply.started": "2024-09-20T21:24:21.006679Z",
          "shell.execute_reply": "2024-09-20T21:24:21.023934Z"
        },
        "trusted": true
      },
      "execution_count": null,
      "outputs": []
    },
    {
      "cell_type": "code",
      "source": [
        "#@title  Main \"Mean Field VI\" algorithm\n",
        "\n",
        "def mfvi(mu_u, mu_v, Gamma_u, Gamma_v,Omega_m, Omega_n, tau, lambda_, epsilon, max_iter=10):\n",
        "    elbo_diff = float('inf')\n",
        "    prev_elbo = -np.inf\n",
        "    iteration = 0\n",
        "    train_loss= []\n",
        "    eps_error=[]\n",
        "\n",
        "    # Use tqdm for progress bar\n",
        "    with tqdm(total=max_iter, desc=\"Training Progress\") as pbar:\n",
        "        while elbo_diff > epsilon and iteration < max_iter:\n",
        "\n",
        "            # Update user parameters\n",
        "            for m in range(M):\n",
        "                Omega_m_data = Omega_m[m]  # (n, r) for user m\n",
        "                mu_u[m],Gamma_u[m],Var_u[m] = update_u_params(mu_v, Gamma_v, Omega_m_data,tau, lambda_)\n",
        "\n",
        "            # Update item parameters\n",
        "            for n in range(N):\n",
        "                Omega_n_data = Omega_n[n]  # (m, r) for item n\n",
        "                mu_v[n],Gamma_v[n],Var_v[n] = update_v_params(mu_u, Gamma_u, Omega_n_data,tau, lambda_)\n",
        "\n",
        "            # Compute the ELBO\n",
        "            elbo =compute_elbo(mu_u, mu_v, Gamma_u, Gamma_v,tau, lambda_)\n",
        "            elbo_diff = np.abs(elbo - prev_elbo)\n",
        "            prev_elbo = elbo\n",
        "\n",
        "            eps_error.append((iteration,elbo_diff))\n",
        "            train_loss.append((iteration,elbo))\n",
        "\n",
        "            # Update tqdm progress bar\n",
        "            pbar.update(1)\n",
        "            pbar.set_postfix({\"ELBO\": elbo, \"Diff\": elbo_diff})\n",
        "            iteration += 1\n",
        "\n",
        "    return mu_u, mu_v, Var_u, Var_v , Gamma_u, Gamma_v,train_loss,eps_error"
      ],
      "metadata": {
        "id": "fawv6o76VN84"
      },
      "execution_count": null,
      "outputs": []
    },
    {
      "cell_type": "code",
      "source": [
        "#@title Run MFVI\n",
        "mu_u, mu_v, Var_u, Var_v,Gamma_u, Gamma_v,loss,error = mfvi(mu_u, mu_v, Gamma_u, Gamma_v,Omega_m, Omega_n, tau, lambda_, epsilon, max_iter=100)"
      ],
      "metadata": {
        "colab": {
          "base_uri": "https://localhost:8080/"
        },
        "id": "rJ1wuUAnhpit",
        "outputId": "2cf8be06-b743-4879-dc28-cf7e7f908752"
      },
      "execution_count": null,
      "outputs": [
        {
          "output_type": "stream",
          "name": "stderr",
          "text": [
            "Training Progress: 100%|██████████| 100/100 [1:27:24<00:00, 52.45s/it, ELBO=6.45e+8, Diff=6.18e+3]\n"
          ]
        }
      ]
    },
    {
      "cell_type": "code",
      "source": [
        "#@title history\n",
        "fig,ax=plt.subplots(1,2,figsize=(8,4))\n",
        "loss=np.array(loss)\n",
        "error=np.array(error)\n",
        "\n",
        "ax[0].plot(loss[1:,0],loss[1:,1])\n",
        "ax[0].set_xlabel('iterations');ax[0].set_ylabel('ELBO')\n",
        "#ax[0].set_title('loss curve')\n",
        "ax[1].plot(error[2:,0],error[2:,1])\n",
        "ax[1].set_xlabel('iterations'); ax[1].set_ylabel('$\\\\epsilon_{error}$')\n",
        "plt.suptitle('training history:num_iter=100 , lambda=4, tau=2, K=2')"
      ],
      "metadata": {
        "colab": {
          "base_uri": "https://localhost:8080/",
          "height": 446
        },
        "id": "eqjtE6Mf_7ly",
        "outputId": "8cf94677-357f-4ffe-a4c6-ac23e8fe5019"
      },
      "execution_count": null,
      "outputs": [
        {
          "output_type": "execute_result",
          "data": {
            "text/plain": [
              "Text(0.5, 0.98, 'training history:num_iter=100 , lambda=4, tau=2, K=2')"
            ]
          },
          "metadata": {},
          "execution_count": 33
        },
        {
          "output_type": "display_data",
          "data": {
            "text/plain": [
              "<Figure size 800x400 with 2 Axes>"
            ],
            "image/png": "[encoded data removed]"
          },
          "metadata": {}
        }
      ]
    },
    {
      "cell_type": "code",
      "source": [
        "#@title Visualization in 2D ( K=2)\n",
        "\n",
        "# Define the 2D Gaussian function\n",
        "def gaussian_2d(x, y, mean, cov):\n",
        "    pos = np.dstack((x, y))\n",
        "    n = mean.shape[0]\n",
        "    diff = pos - mean\n",
        "    inv_cov = np.linalg.inv(cov)\n",
        "    exponent = np.einsum('...k,kl,...l->...', diff, inv_cov, diff)\n",
        "    return np.exp(-0.5 * exponent) / np.sqrt((2 * np.pi)**n * np.linalg.det(cov))\n",
        "\n",
        "# Create grid of points\n",
        "x = np.linspace(-3, 3, 100)\n",
        "y = np.linspace(-3, 3, 100)\n",
        "X, Y = np.meshgrid(x, y)\n",
        "\n",
        "   # User\n",
        "def visualization_u(m=0):\n",
        "    # Parameters for the Gaussian distribution\n",
        "    mean = mu_u[m]\n",
        "    cov = Gamma_u[m]  # learned covariance\n",
        "    C=np.diag(Var_u[m]) # learned variances\n",
        "    # Calculate the Gaussian distribution values on the grid\n",
        "    Z = gaussian_2d(X, Y, mean, cov)\n",
        "    Z_2 = gaussian_2d(X, Y, mean, C)\n",
        "\n",
        "    plt.figure(figsize=(7, 5))\n",
        "    # Generate data points for the first distribution based on Z\n",
        "    data1 = np.column_stack((X.flatten(), Y.flatten(), Z.flatten()))\n",
        "    data1 = data1[data1[:, 2] > 0]  # Filter out zero densities\n",
        "\n",
        "    # Generate data points for the second distribution based on Z_2\n",
        "    data2 = np.column_stack((X.flatten(), Y.flatten(), Z_2.flatten()))\n",
        "    data2 = data2[data2[:, 2] > 0]  # Filter out zero densities\n",
        "\n",
        "    # KDE for the first\n",
        "    sns.kdeplot(x=data1[:, 0], y=data1[:, 1], fill=True, cmap='viridis', alpha=0.6, thresh=0)\n",
        "\n",
        "    # KDE for the second\n",
        "    sns.kdeplot(x=data2[:, 0], y=data2[:, 1], fill=True, cmap='Reds', alpha=0.6, thresh=0)\n",
        "\n",
        "    # Add a legend\n",
        "    contour1 = plt.Line2D([0], [0], color='green', lw=2, label=f'$u_{m}$ with learned dense $\\Gamma_{m}$')\n",
        "    contour2 = plt.Line2D([0], [0], color='red', lw=2, label=f'$u_{m}$ with learned variances $C_{m}$')\n",
        "    plt.legend(handles=[contour1, contour2])\n",
        "    plt.ylim(-4, 4)  # Adjust as needed\n",
        "\n",
        "    # Labels and title\n",
        "    plt.title(f'KDE Heatmap of 2D $u_{m}$ , K=2')\n",
        "    plt.xlabel('$x$')\n",
        "    plt.ylabel('$y$')\n",
        "    plt.grid(True)\n",
        "\n",
        "    plt.show()\n",
        "\n"
      ],
      "metadata": {
        "cellView": "form",
        "id": "hvd2ofrxNdmW"
      },
      "execution_count": null,
      "outputs": []
    },
    {
      "cell_type": "code",
      "source": [
        "visualization_u(m=0)"
      ],
      "metadata": {
        "colab": {
          "base_uri": "https://localhost:8080/",
          "height": 489
        },
        "id": "Yn7yxDXRNtll",
        "outputId": "1e406611-6242-4387-c23e-cc223c45807b"
      },
      "execution_count": null,
      "outputs": [
        {
          "output_type": "display_data",
          "data": {
            "text/plain": [
              "<Figure size 700x500 with 1 Axes>"
            ],
            "image/png": "[encoded data removed]"
          },
          "metadata": {}
        }
      ]
    },
    {
      "cell_type": "code",
      "source": [],
      "metadata": {
        "id": "B7Jj4VzLVn9V"
      },
      "execution_count": null,
      "outputs": []
    },
    {
      "cell_type": "code",
      "source": [],
      "metadata": {
        "id": "gyA4W4guVnvU"
      },
      "execution_count": null,
      "outputs": []
    },
    {
      "cell_type": "code",
      "source": [
        "\n",
        "fig,ax=plt.subplots(1,2,figsize=(7,5))\n",
        "loss=np.array(loss)\n",
        "error=np.array(error)\n",
        "\n",
        "ax[0].plot(loss[:,0],loss[:,1])\n",
        "ax[0].set_xlabel('iterations');ax[0].set_ylabel('ELBO')\n",
        "#ax[0].set_title('loss curve')\n",
        "ax[1].plot(error[:,0],error[:,1])\n",
        "ax[1].set_xlabel('iterations'); ax[1].set_ylabel('$\\\\epsilon_{error}$')"
      ],
      "metadata": {
        "execution": {
          "iopub.status.busy": "2024-09-19T17:10:54.63254Z",
          "iopub.execute_input": "2024-09-19T17:10:54.633357Z",
          "iopub.status.idle": "2024-09-19T17:10:58.599601Z",
          "shell.execute_reply.started": "2024-09-19T17:10:54.633304Z",
          "shell.execute_reply": "2024-09-19T17:10:58.598282Z"
        },
        "trusted": true,
        "id": "HNS33m86f95D",
        "outputId": "9144afab-c7ef-45af-c366-0bd50dcb6fef"
      },
      "execution_count": null,
      "outputs": [
        {
          "execution_count": 16,
          "output_type": "execute_result",
          "data": {
            "text/plain": "Text(0, 0.5, '$\\\\epsilon_{error}$')"
          },
          "metadata": {}
        },
        {
          "output_type": "display_data",
          "data": {
            "text/plain": "<Figure size 500x700 with 2 Axes>",
            "image/png": "[encoded data removed]"
          },
          "metadata": {}
        }
      ]
    },
    {
      "cell_type": "code",
      "source": [],
      "metadata": {
        "execution": {
          "iopub.status.busy": "2024-09-19T17:17:10.628304Z",
          "iopub.execute_input": "2024-09-19T17:17:10.62876Z",
          "iopub.status.idle": "2024-09-19T17:17:10.946784Z",
          "shell.execute_reply.started": "2024-09-19T17:17:10.628721Z",
          "shell.execute_reply": "2024-09-19T17:17:10.945813Z"
        },
        "trusted": true,
        "id": "rnzEfCIHf95D"
      },
      "execution_count": null,
      "outputs": []
    }
  ]
}